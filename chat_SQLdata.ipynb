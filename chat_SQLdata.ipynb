{
  "cells": [
    {
      "cell_type": "markdown",
      "metadata": {
        "id": "SgvKNx4Lcm3-"
      },
      "source": [
        "## Conversation with the sql database"
      ]
    },
    {
      "cell_type": "code",
      "execution_count": null,
      "metadata": {
        "id": "vOnf3nR0cm4C"
      },
      "outputs": [],
      "source": [
        "import os\n",
        "os.environ['OPENAI_API_KEY']"
      ]
    },
    {
      "cell_type": "code",
      "execution_count": null,
      "metadata": {
        "id": "AEsG0rL8cm4E",
        "outputId": "f7f3cbdb-8f35-437c-d2cb-0f79f84f7492"
      },
      "outputs": [
        {
          "name": "stdout",
          "output_type": "stream",
          "text": [
            "(1, 'AC/DC')\n",
            "(2, 'Accept')\n",
            "(3, 'Aerosmith')\n",
            "(4, 'Alanis Morissette')\n",
            "(5, 'Alice In Chains')\n",
            "(6, 'AntÃ´nio Carlos Jobim')\n",
            "(7, 'Apocalyptica')\n",
            "(8, 'Audioslave')\n",
            "(9, 'BackBeat')\n",
            "(10, 'Billy Cobham')\n"
          ]
        }
      ],
      "source": [
        "#testing DB\n",
        "import sqlite3\n",
        "conn = sqlite3.connect('Chinook.db')\n",
        "cursor = conn.cursor()\n",
        "cursor.execute('SELECT * FROM Artist LIMIT 10')\n",
        "rows = cursor.fetchall()\n",
        "for row in rows:\n",
        "    print(row)\n",
        "cursor.close()\n",
        "conn.close()"
      ]
    },
    {
      "cell_type": "code",
      "execution_count": null,
      "metadata": {
        "id": "swd0LBEpcm4F"
      },
      "outputs": [],
      "source": [
        "from langchain.agents import create_sql_agent\n",
        "from langchain.agents.agent_toolkits import SQLDatabaseToolkit\n",
        "from langchain.sql_database import SQLDatabase\n",
        "from langchain.llms.openai import OpenAI\n",
        "from langchain.agents import AgentExecutor, AgentType\n",
        "from langchain import OpenAI, SQLDatabase, SQLDatabaseChain"
      ]
    },
    {
      "cell_type": "code",
      "execution_count": null,
      "metadata": {
        "id": "QKXkKFf9cm4F"
      },
      "outputs": [],
      "source": [
        "# Create the agent executor\n",
        "db = SQLDatabase.from_uri(\"sqlite:///Chinook.db\")"
      ]
    },
    {
      "cell_type": "code",
      "execution_count": null,
      "metadata": {
        "id": "r1UFMx8Ocm4F",
        "outputId": "c4563bd1-6cd0-4e79-bd6a-0059bfd3f949"
      },
      "outputs": [
        {
          "name": "stderr",
          "output_type": "stream",
          "text": [
            "c:\\Users\\srika\\anaconda3\\lib\\site-packages\\langchain\\sql_database.py:353: SAWarning: Dialect sqlite+pysqlite does *not* support Decimal objects natively, and SQLAlchemy must convert from floating point - rounding errors and other issues may occur. Please consider storing Decimal numbers as strings or integers on this platform for lossless storage.\n",
            "  sample_rows_result = connection.execute(command)  # type: ignore\n"
          ]
        },
        {
          "data": {
            "text/plain": [
              "'\\nCREATE TABLE \"Album\" (\\n\\t\"AlbumId\" INTEGER NOT NULL, \\n\\t\"Title\" NVARCHAR(160) NOT NULL, \\n\\t\"ArtistId\" INTEGER NOT NULL, \\n\\tPRIMARY KEY (\"AlbumId\"), \\n\\tFOREIGN KEY(\"ArtistId\") REFERENCES \"Artist\" (\"ArtistId\")\\n)\\n\\n/*\\n3 rows from Album table:\\nAlbumId\\tTitle\\tArtistId\\n1\\tFor Those About To Rock We Salute You\\t1\\n2\\tBalls to the Wall\\t2\\n3\\tRestless and Wild\\t2\\n*/\\n\\n\\nCREATE TABLE \"Artist\" (\\n\\t\"ArtistId\" INTEGER NOT NULL, \\n\\t\"Name\" NVARCHAR(120), \\n\\tPRIMARY KEY (\"ArtistId\")\\n)\\n\\n/*\\n3 rows from Artist table:\\nArtistId\\tName\\n1\\tAC/DC\\n2\\tAccept\\n3\\tAerosmith\\n*/\\n\\n\\nCREATE TABLE \"Customer\" (\\n\\t\"CustomerId\" INTEGER NOT NULL, \\n\\t\"FirstName\" NVARCHAR(40) NOT NULL, \\n\\t\"LastName\" NVARCHAR(20) NOT NULL, \\n\\t\"Company\" NVARCHAR(80), \\n\\t\"Address\" NVARCHAR(70), \\n\\t\"City\" NVARCHAR(40), \\n\\t\"State\" NVARCHAR(40), \\n\\t\"Country\" NVARCHAR(40), \\n\\t\"PostalCode\" NVARCHAR(10), \\n\\t\"Phone\" NVARCHAR(24), \\n\\t\"Fax\" NVARCHAR(24), \\n\\t\"Email\" NVARCHAR(60) NOT NULL, \\n\\t\"SupportRepId\" INTEGER, \\n\\tPRIMARY KEY (\"CustomerId\"), \\n\\tFOREIGN KEY(\"SupportRepId\") REFERENCES \"Employee\" (\"EmployeeId\")\\n)\\n\\n/*\\n3 rows from Customer table:\\nCustomerId\\tFirstName\\tLastName\\tCompany\\tAddress\\tCity\\tState\\tCountry\\tPostalCode\\tPhone\\tFax\\tEmail\\tSupportRepId\\n1\\tLuÃ\\xads\\tGonÃ§alves\\tEmbraer - Empresa Brasileira de AeronÃ¡utica S.A.\\tAv. Brigadeiro Faria Lima, 2170\\tSÃ£o JosÃ© dos Campos\\tSP\\tBrazil\\t12227-000\\t+55 (12) 3923-5555\\t+55 (12) 3923-5566\\tluisg@embraer.com.br\\t3\\n2\\tLeonie\\tKÃ¶hler\\tNone\\tTheodor-Heuss-StraÃŸe 34\\tStuttgart\\tNone\\tGermany\\t70174\\t+49 0711 2842222\\tNone\\tleonekohler@surfeu.de\\t5\\n3\\tFranÃ§ois\\tTremblay\\tNone\\t1498 rue BÃ©langer\\tMontrÃ©al\\tQC\\tCanada\\tH2G 1A7\\t+1 (514) 721-4711\\tNone\\tftremblay@gmail.com\\t3\\n*/\\n\\n\\nCREATE TABLE \"Employee\" (\\n\\t\"EmployeeId\" INTEGER NOT NULL, \\n\\t\"LastName\" NVARCHAR(20) NOT NULL, \\n\\t\"FirstName\" NVARCHAR(20) NOT NULL, \\n\\t\"Title\" NVARCHAR(30), \\n\\t\"ReportsTo\" INTEGER, \\n\\t\"BirthDate\" DATETIME, \\n\\t\"HireDate\" DATETIME, \\n\\t\"Address\" NVARCHAR(70), \\n\\t\"City\" NVARCHAR(40), \\n\\t\"State\" NVARCHAR(40), \\n\\t\"Country\" NVARCHAR(40), \\n\\t\"PostalCode\" NVARCHAR(10), \\n\\t\"Phone\" NVARCHAR(24), \\n\\t\"Fax\" NVARCHAR(24), \\n\\t\"Email\" NVARCHAR(60), \\n\\tPRIMARY KEY (\"EmployeeId\"), \\n\\tFOREIGN KEY(\"ReportsTo\") REFERENCES \"Employee\" (\"EmployeeId\")\\n)\\n\\n/*\\n3 rows from Employee table:\\nEmployeeId\\tLastName\\tFirstName\\tTitle\\tReportsTo\\tBirthDate\\tHireDate\\tAddress\\tCity\\tState\\tCountry\\tPostalCode\\tPhone\\tFax\\tEmail\\n1\\tAdams\\tAndrew\\tGeneral Manager\\tNone\\t1962-02-18 00:00:00\\t2002-08-14 00:00:00\\t11120 Jasper Ave NW\\tEdmonton\\tAB\\tCanada\\tT5K 2N1\\t+1 (780) 428-9482\\t+1 (780) 428-3457\\tandrew@chinookcorp.com\\n2\\tEdwards\\tNancy\\tSales Manager\\t1\\t1958-12-08 00:00:00\\t2002-05-01 00:00:00\\t825 8 Ave SW\\tCalgary\\tAB\\tCanada\\tT2P 2T3\\t+1 (403) 262-3443\\t+1 (403) 262-3322\\tnancy@chinookcorp.com\\n3\\tPeacock\\tJane\\tSales Support Agent\\t2\\t1973-08-29 00:00:00\\t2002-04-01 00:00:00\\t1111 6 Ave SW\\tCalgary\\tAB\\tCanada\\tT2P 5M5\\t+1 (403) 262-3443\\t+1 (403) 262-6712\\tjane@chinookcorp.com\\n*/\\n\\n\\nCREATE TABLE \"Genre\" (\\n\\t\"GenreId\" INTEGER NOT NULL, \\n\\t\"Name\" NVARCHAR(120), \\n\\tPRIMARY KEY (\"GenreId\")\\n)\\n\\n/*\\n3 rows from Genre table:\\nGenreId\\tName\\n1\\tRock\\n2\\tJazz\\n3\\tMetal\\n*/\\n\\n\\nCREATE TABLE \"Invoice\" (\\n\\t\"InvoiceId\" INTEGER NOT NULL, \\n\\t\"CustomerId\" INTEGER NOT NULL, \\n\\t\"InvoiceDate\" DATETIME NOT NULL, \\n\\t\"BillingAddress\" NVARCHAR(70), \\n\\t\"BillingCity\" NVARCHAR(40), \\n\\t\"BillingState\" NVARCHAR(40), \\n\\t\"BillingCountry\" NVARCHAR(40), \\n\\t\"BillingPostalCode\" NVARCHAR(10), \\n\\t\"Total\" NUMERIC(10, 2) NOT NULL, \\n\\tPRIMARY KEY (\"InvoiceId\"), \\n\\tFOREIGN KEY(\"CustomerId\") REFERENCES \"Customer\" (\"CustomerId\")\\n)\\n\\n/*\\n3 rows from Invoice table:\\nInvoiceId\\tCustomerId\\tInvoiceDate\\tBillingAddress\\tBillingCity\\tBillingState\\tBillingCountry\\tBillingPostalCode\\tTotal\\n1\\t2\\t2009-01-01 00:00:00\\tTheodor-Heuss-StraÃŸe 34\\tStuttgart\\tNone\\tGermany\\t70174\\t1.98\\n2\\t4\\t2009-01-02 00:00:00\\tUllevÃ¥lsveien 14\\tOslo\\tNone\\tNorway\\t0171\\t3.96\\n3\\t8\\t2009-01-03 00:00:00\\tGrÃ©trystraat 63\\tBrussels\\tNone\\tBelgium\\t1000\\t5.94\\n*/\\n\\n\\nCREATE TABLE \"InvoiceLine\" (\\n\\t\"InvoiceLineId\" INTEGER NOT NULL, \\n\\t\"InvoiceId\" INTEGER NOT NULL, \\n\\t\"TrackId\" INTEGER NOT NULL, \\n\\t\"UnitPrice\" NUMERIC(10, 2) NOT NULL, \\n\\t\"Quantity\" INTEGER NOT NULL, \\n\\tPRIMARY KEY (\"InvoiceLineId\"), \\n\\tFOREIGN KEY(\"TrackId\") REFERENCES \"Track\" (\"TrackId\"), \\n\\tFOREIGN KEY(\"InvoiceId\") REFERENCES \"Invoice\" (\"InvoiceId\")\\n)\\n\\n/*\\n3 rows from InvoiceLine table:\\nInvoiceLineId\\tInvoiceId\\tTrackId\\tUnitPrice\\tQuantity\\n1\\t1\\t2\\t0.99\\t1\\n2\\t1\\t4\\t0.99\\t1\\n3\\t2\\t6\\t0.99\\t1\\n*/\\n\\n\\nCREATE TABLE \"MediaType\" (\\n\\t\"MediaTypeId\" INTEGER NOT NULL, \\n\\t\"Name\" NVARCHAR(120), \\n\\tPRIMARY KEY (\"MediaTypeId\")\\n)\\n\\n/*\\n3 rows from MediaType table:\\nMediaTypeId\\tName\\n1\\tMPEG audio file\\n2\\tProtected AAC audio file\\n3\\tProtected MPEG-4 video file\\n*/\\n\\n\\nCREATE TABLE \"Playlist\" (\\n\\t\"PlaylistId\" INTEGER NOT NULL, \\n\\t\"Name\" NVARCHAR(120), \\n\\tPRIMARY KEY (\"PlaylistId\")\\n)\\n\\n/*\\n3 rows from Playlist table:\\nPlaylistId\\tName\\n1\\tMusic\\n2\\tMovies\\n3\\tTV Shows\\n*/\\n\\n\\nCREATE TABLE \"PlaylistTrack\" (\\n\\t\"PlaylistId\" INTEGER NOT NULL, \\n\\t\"TrackId\" INTEGER NOT NULL, \\n\\tPRIMARY KEY (\"PlaylistId\", \"TrackId\"), \\n\\tFOREIGN KEY(\"TrackId\") REFERENCES \"Track\" (\"TrackId\"), \\n\\tFOREIGN KEY(\"PlaylistId\") REFERENCES \"Playlist\" (\"PlaylistId\")\\n)\\n\\n/*\\n3 rows from PlaylistTrack table:\\nPlaylistId\\tTrackId\\n1\\t3402\\n1\\t3389\\n1\\t3390\\n*/\\n\\n\\nCREATE TABLE \"Track\" (\\n\\t\"TrackId\" INTEGER NOT NULL, \\n\\t\"Name\" NVARCHAR(200) NOT NULL, \\n\\t\"AlbumId\" INTEGER, \\n\\t\"MediaTypeId\" INTEGER NOT NULL, \\n\\t\"GenreId\" INTEGER, \\n\\t\"Composer\" NVARCHAR(220), \\n\\t\"Milliseconds\" INTEGER NOT NULL, \\n\\t\"Bytes\" INTEGER, \\n\\t\"UnitPrice\" NUMERIC(10, 2) NOT NULL, \\n\\tPRIMARY KEY (\"TrackId\"), \\n\\tFOREIGN KEY(\"MediaTypeId\") REFERENCES \"MediaType\" (\"MediaTypeId\"), \\n\\tFOREIGN KEY(\"GenreId\") REFERENCES \"Genre\" (\"GenreId\"), \\n\\tFOREIGN KEY(\"AlbumId\") REFERENCES \"Album\" (\"AlbumId\")\\n)\\n\\n/*\\n3 rows from Track table:\\nTrackId\\tName\\tAlbumId\\tMediaTypeId\\tGenreId\\tComposer\\tMilliseconds\\tBytes\\tUnitPrice\\n1\\tFor Those About To Rock (We Salute You)\\t1\\t1\\t1\\tAngus Young, Malcolm Young, Brian Johnson\\t343719\\t11170334\\t0.99\\n2\\tBalls to the Wall\\t2\\t2\\t1\\tNone\\t342562\\t5510424\\t0.99\\n3\\tFast As a Shark\\t3\\t2\\t1\\tF. Baltes, S. Kaufman, U. Dirkscneider & W. Hoffman\\t230619\\t3990994\\t0.99\\n*/'"
            ]
          },
          "execution_count": 5,
          "metadata": {},
          "output_type": "execute_result"
        }
      ],
      "source": [
        "db.get_table_info()"
      ]
    },
    {
      "cell_type": "code",
      "execution_count": null,
      "metadata": {
        "id": "MBy6a2T7cm4G"
      },
      "outputs": [],
      "source": [
        "toolkit = SQLDatabaseToolkit(db=db, llm=OpenAI(temperature=0))"
      ]
    },
    {
      "cell_type": "code",
      "execution_count": null,
      "metadata": {
        "id": "r8ynRTJJcm4G"
      },
      "outputs": [],
      "source": [
        "agent_executor = create_sql_agent(\n",
        "    llm=OpenAI(temperature=0),\n",
        "    toolkit=toolkit,\n",
        "    verbose=True,\n",
        "    agent_type=AgentType.ZERO_SHOT_REACT_DESCRIPTION,\n",
        ")"
      ]
    },
    {
      "cell_type": "code",
      "execution_count": null,
      "metadata": {
        "id": "6jUw-CR2cm4H",
        "outputId": "e4fd6d8f-58b6-4a20-9472-965fdb7a2fda"
      },
      "outputs": [
        {
          "name": "stdout",
          "output_type": "stream",
          "text": [
            "\n",
            "\n",
            "\u001b[1m> Entering new  chain...\u001b[0m\n",
            "\u001b[32;1m\u001b[1;3mAction: sql_db_list_tables\n",
            "Action Input: \u001b[0m\n",
            "Observation: \u001b[38;5;200m\u001b[1;3mAlbum, Artist, Customer, Employee, Genre, Invoice, InvoiceLine, MediaType, Playlist, PlaylistTrack, Track\u001b[0m\n",
            "Thought:\u001b[32;1m\u001b[1;3m The PlaylistTrack table is the most relevant to the question.\n",
            "Action: sql_db_schema\n",
            "Action Input: PlaylistTrack\u001b[0m\n",
            "Observation: \u001b[33;1m\u001b[1;3m\n",
            "CREATE TABLE \"PlaylistTrack\" (\n",
            "\t\"PlaylistId\" INTEGER NOT NULL, \n",
            "\t\"TrackId\" INTEGER NOT NULL, \n",
            "\tPRIMARY KEY (\"PlaylistId\", \"TrackId\"), \n",
            "\tFOREIGN KEY(\"TrackId\") REFERENCES \"Track\" (\"TrackId\"), \n",
            "\tFOREIGN KEY(\"PlaylistId\") REFERENCES \"Playlist\" (\"PlaylistId\")\n",
            ")\n",
            "\n",
            "/*\n",
            "3 rows from PlaylistTrack table:\n",
            "PlaylistId\tTrackId\n",
            "1\t3402\n",
            "1\t3389\n",
            "1\t3390\n",
            "*/\u001b[0m\n",
            "Thought:\u001b[32;1m\u001b[1;3m I now know the final answer\n",
            "Final Answer: The PlaylistTrack table contains two columns, PlaylistId and TrackId, which are both integers and form a primary key. It also has two foreign keys, one to the Track table and one to the Playlist table.\u001b[0m\n",
            "\n",
            "\u001b[1m> Finished chain.\u001b[0m\n"
          ]
        },
        {
          "data": {
            "text/plain": [
              "'The PlaylistTrack table contains two columns, PlaylistId and TrackId, which are both integers and form a primary key. It also has two foreign keys, one to the Track table and one to the Playlist table.'"
            ]
          },
          "execution_count": 8,
          "metadata": {},
          "output_type": "execute_result"
        }
      ],
      "source": [
        "agent_executor.run(\"Describe the playlisttrack table\")"
      ]
    },
    {
      "cell_type": "markdown",
      "metadata": {
        "id": "nGSxYWTacm4J"
      },
      "source": [
        "Answer:- 'The PlaylistTrack table contains two columns, PlaylistId and TrackId, which are both integers and form a primary key. It also has two foreign keys, one to the Track table and one to the Playlist table.'"
      ]
    },
    {
      "cell_type": "code",
      "source": [],
      "metadata": {
        "id": "r7DCv8eaLvZ3"
      },
      "execution_count": null,
      "outputs": []
    },
    {
      "cell_type": "code",
      "execution_count": null,
      "metadata": {
        "id": "e0VD2ewecm4J",
        "outputId": "e7cf5e02-6cfe-4513-f29d-c2dca8db3cfd"
      },
      "outputs": [
        {
          "name": "stdout",
          "output_type": "stream",
          "text": [
            "\n",
            "\n",
            "\u001b[1m> Entering new  chain...\u001b[0m\n",
            "\u001b[32;1m\u001b[1;3mAction: sql_db_list_tables\n",
            "Action Input: \u001b[0m\n",
            "Observation: \u001b[38;5;200m\u001b[1;3mAlbum, Artist, Customer, Employee, Genre, Invoice, InvoiceLine, MediaType, Playlist, PlaylistTrack, Track\u001b[0m\n",
            "Thought:\u001b[32;1m\u001b[1;3m I should query the schema of the Artist and Album tables\n",
            "Action: sql_db_schema\n",
            "Action Input: Artist, Album\u001b[0m\n",
            "Observation: \u001b[33;1m\u001b[1;3m\n",
            "CREATE TABLE \"Album\" (\n",
            "\t\"AlbumId\" INTEGER NOT NULL, \n",
            "\t\"Title\" NVARCHAR(160) NOT NULL, \n",
            "\t\"ArtistId\" INTEGER NOT NULL, \n",
            "\tPRIMARY KEY (\"AlbumId\"), \n",
            "\tFOREIGN KEY(\"ArtistId\") REFERENCES \"Artist\" (\"ArtistId\")\n",
            ")\n",
            "\n",
            "/*\n",
            "3 rows from Album table:\n",
            "AlbumId\tTitle\tArtistId\n",
            "1\tFor Those About To Rock We Salute You\t1\n",
            "2\tBalls to the Wall\t2\n",
            "3\tRestless and Wild\t2\n",
            "*/\n",
            "\n",
            "\n",
            "CREATE TABLE \"Artist\" (\n",
            "\t\"ArtistId\" INTEGER NOT NULL, \n",
            "\t\"Name\" NVARCHAR(120), \n",
            "\tPRIMARY KEY (\"ArtistId\")\n",
            ")\n",
            "\n",
            "/*\n",
            "3 rows from Artist table:\n",
            "ArtistId\tName\n",
            "1\tAC/DC\n",
            "2\tAccept\n",
            "3\tAerosmith\n",
            "*/\u001b[0m\n",
            "Thought:\u001b[32;1m\u001b[1;3m I should query the Artist and Album tables to get the top 5 artists name and their album\n",
            "Action: sql_db_query\n",
            "Action Input: SELECT Artist.Name, Album.Title FROM Artist INNER JOIN Album ON Artist.ArtistId = Album.ArtistId ORDER BY Artist.Name LIMIT 5\u001b[0m\n",
            "Observation: \u001b[36;1m\u001b[1;3m[('AC/DC', 'For Those About To Rock We Salute You'), ('AC/DC', 'Let There Be Rock'), ('Aaron Copland & London Symphony Orchestra', 'A Copland Celebration, Vol. I'), ('Aaron Goldberg', 'Worlds'), ('Academy of St. Martin in the Fields & Sir Neville Marriner', 'The World of Classical Favourites')]\u001b[0m\n",
            "Thought:\u001b[32;1m\u001b[1;3m I now know the final answer\n",
            "Final Answer: AC/DC - For Those About To Rock We Salute You, AC/DC - Let There Be Rock, Aaron Copland & London Symphony Orchestra - A Copland Celebration, Vol. I, Aaron Goldberg - Worlds, Academy of St. Martin in the Fields & Sir Neville Marriner - The World of Classical Favourites\u001b[0m\n",
            "\n",
            "\u001b[1m> Finished chain.\u001b[0m\n"
          ]
        },
        {
          "data": {
            "text/plain": [
              "'AC/DC - For Those About To Rock We Salute You, AC/DC - Let There Be Rock, Aaron Copland & London Symphony Orchestra - A Copland Celebration, Vol. I, Aaron Goldberg - Worlds, Academy of St. Martin in the Fields & Sir Neville Marriner - The World of Classical Favourites'"
            ]
          },
          "execution_count": 9,
          "metadata": {},
          "output_type": "execute_result"
        }
      ],
      "source": [
        "agent_executor.run(\"concat the artist table and album table and get top 5 artists name and their album\")"
      ]
    },
    {
      "cell_type": "code",
      "execution_count": null,
      "metadata": {
        "id": "gHtiUOx4cm4J",
        "outputId": "9f2e24bf-a4c1-4f30-cc8d-0daa4ae2f85e"
      },
      "outputs": [
        {
          "name": "stdout",
          "output_type": "stream",
          "text": [
            "\n",
            "\n",
            "\u001b[1m> Entering new  chain...\u001b[0m\n",
            "\u001b[32;1m\u001b[1;3mAction: sql_db_list_tables\n",
            "Action Input: \u001b[0m\n",
            "Observation: \u001b[38;5;200m\u001b[1;3mAlbum, Artist, Customer, Employee, Genre, Invoice, InvoiceLine, MediaType, Playlist, PlaylistTrack, Track\u001b[0m\n",
            "Thought:\u001b[32;1m\u001b[1;3m I should query the schema of the Employee table.\n",
            "Action: sql_db_schema\n",
            "Action Input: Employee\u001b[0m\n",
            "Observation: \u001b[33;1m\u001b[1;3m\n",
            "CREATE TABLE \"Employee\" (\n",
            "\t\"EmployeeId\" INTEGER NOT NULL, \n",
            "\t\"LastName\" NVARCHAR(20) NOT NULL, \n",
            "\t\"FirstName\" NVARCHAR(20) NOT NULL, \n",
            "\t\"Title\" NVARCHAR(30), \n",
            "\t\"ReportsTo\" INTEGER, \n",
            "\t\"BirthDate\" DATETIME, \n",
            "\t\"HireDate\" DATETIME, \n",
            "\t\"Address\" NVARCHAR(70), \n",
            "\t\"City\" NVARCHAR(40), \n",
            "\t\"State\" NVARCHAR(40), \n",
            "\t\"Country\" NVARCHAR(40), \n",
            "\t\"PostalCode\" NVARCHAR(10), \n",
            "\t\"Phone\" NVARCHAR(24), \n",
            "\t\"Fax\" NVARCHAR(24), \n",
            "\t\"Email\" NVARCHAR(60), \n",
            "\tPRIMARY KEY (\"EmployeeId\"), \n",
            "\tFOREIGN KEY(\"ReportsTo\") REFERENCES \"Employee\" (\"EmployeeId\")\n",
            ")\n",
            "\n",
            "/*\n",
            "3 rows from Employee table:\n",
            "EmployeeId\tLastName\tFirstName\tTitle\tReportsTo\tBirthDate\tHireDate\tAddress\tCity\tState\tCountry\tPostalCode\tPhone\tFax\tEmail\n",
            "1\tAdams\tAndrew\tGeneral Manager\tNone\t1962-02-18 00:00:00\t2002-08-14 00:00:00\t11120 Jasper Ave NW\tEdmonton\tAB\tCanada\tT5K 2N1\t+1 (780) 428-9482\t+1 (780) 428-3457\tandrew@chinookcorp.com\n",
            "2\tEdwards\tNancy\tSales Manager\t1\t1958-12-08 00:00:00\t2002-05-01 00:00:00\t825 8 Ave SW\tCalgary\tAB\tCanada\tT2P 2T3\t+1 (403) 262-3443\t+1 (403) 262-3322\tnancy@chinookcorp.com\n",
            "3\tPeacock\tJane\tSales Support Agent\t2\t1973-08-29 00:00:00\t2002-04-01 00:00:00\t1111 6 Ave SW\tCalgary\tAB\tCanada\tT2P 5M5\t+1 (403) 262-3443\t+1 (403) 262-6712\tjane@chinookcorp.com\n",
            "*/\u001b[0m\n",
            "Thought:\u001b[32;1m\u001b[1;3m I should query the Employee table to get the number of employees.\n",
            "Action: sql_db_query\n",
            "Action Input: SELECT COUNT(*) FROM Employee\u001b[0m\n",
            "Observation: \u001b[36;1m\u001b[1;3m[(8,)]\u001b[0m\n",
            "Thought:\u001b[32;1m\u001b[1;3m I now know the final answer\n",
            "Final Answer: There are 8 employees.\u001b[0m\n",
            "\n",
            "\u001b[1m> Finished chain.\u001b[0m\n"
          ]
        },
        {
          "data": {
            "text/plain": [
              "'There are 8 employees.'"
            ]
          },
          "execution_count": 10,
          "metadata": {},
          "output_type": "execute_result"
        }
      ],
      "source": [
        "agent_executor.run(\"How many employees are there?\")"
      ]
    },
    {
      "cell_type": "markdown",
      "metadata": {
        "id": "8SsFH4dKcm4K"
      },
      "source": [
        "Answer:- 'There are 8 employees.'"
      ]
    },
    {
      "cell_type": "markdown",
      "metadata": {
        "id": "AngdLkY5cm4K"
      },
      "source": [
        "### Using Query Checker\n",
        "- Language Model generates invalid SQL with small mistakes sometimes that can be self-corrected using the same technique used by the SQL Database Agent to try and fix the SQL using the LLM."
      ]
    },
    {
      "cell_type": "code",
      "execution_count": null,
      "metadata": {
        "id": "eh6NJSgOcm4K"
      },
      "outputs": [],
      "source": [
        "llm = OpenAI(temperature=0, verbose=True)\n",
        "db_chain = SQLDatabaseChain.from_llm(llm, db, verbose=True, use_query_checker=True)"
      ]
    },
    {
      "cell_type": "code",
      "execution_count": null,
      "metadata": {
        "id": "jzQ20HKUcm4K",
        "outputId": "038646ba-d323-40f6-dbbc-c5328d28bf98"
      },
      "outputs": [
        {
          "name": "stdout",
          "output_type": "stream",
          "text": [
            "\n",
            "\n",
            "\u001b[1m> Entering new  chain...\u001b[0m\n",
            "How many albums by Aerosmith?\n",
            "SQLQuery:\u001b[32;1m\u001b[1;3mSELECT COUNT(*) FROM Album INNER JOIN Artist ON Album.ArtistId = Artist.ArtistId WHERE Artist.Name = 'Aerosmith';\u001b[0m\n",
            "SQLResult: \u001b[33;1m\u001b[1;3m[(1,)]\u001b[0m\n",
            "Answer:\u001b[32;1m\u001b[1;3mThere is 1 album by Aerosmith.\u001b[0m\n",
            "\u001b[1m> Finished chain.\u001b[0m\n"
          ]
        },
        {
          "data": {
            "text/plain": [
              "'There is 1 album by Aerosmith.'"
            ]
          },
          "execution_count": 12,
          "metadata": {},
          "output_type": "execute_result"
        }
      ],
      "source": [
        "db_chain.run(\"How many albums by Aerosmith?\")"
      ]
    },
    {
      "cell_type": "code",
      "execution_count": null,
      "metadata": {
        "id": "ARIdAA2bcm4K",
        "outputId": "c9bdebab-e1c3-4123-89c4-b46ab5b7fcbc"
      },
      "outputs": [
        {
          "name": "stdout",
          "output_type": "stream",
          "text": [
            "\n",
            "\n",
            "\u001b[1m> Entering new  chain...\u001b[0m\n",
            "What are some example tracks by Bach?\n",
            "SQLQuery:\u001b[32;1m\u001b[1;3mSELECT \"Name\" FROM \"Track\" WHERE \"Composer\" LIKE '%Bach%' LIMIT 5;\u001b[0m\n",
            "SQLResult: \u001b[33;1m\u001b[1;3m[('American Woman',), ('Concerto for 2 Violins in D Minor, BWV 1043: I. Vivace',), ('Aria Mit 30 VerÃ¤nderungen, BWV 988 \"Goldberg Variations\": Aria',), ('Suite for Solo Cello No. 1 in G Major, BWV 1007: I. PrÃ©lude',), ('Toccata and Fugue in D Minor, BWV 565: I. Toccata',)]\u001b[0m\n",
            "Answer:\u001b[32;1m\u001b[1;3mSome example tracks by Bach are American Woman, Concerto for 2 Violins in D Minor, BWV 1043: I. Vivace, Aria Mit 30 Veränderungen, BWV 988 \"Goldberg Variations\": Aria, Suite for Solo Cello No. 1 in G Major, BWV 1007: I. Prélude, and Toccata and Fugue in D Minor, BWV 565: I. Toccata.\u001b[0m\n",
            "\u001b[1m> Finished chain.\u001b[0m\n"
          ]
        },
        {
          "data": {
            "text/plain": [
              "'Some example tracks by Bach are American Woman, Concerto for 2 Violins in D Minor, BWV 1043: I. Vivace, Aria Mit 30 Veränderungen, BWV 988 \"Goldberg Variations\": Aria, Suite for Solo Cello No. 1 in G Major, BWV 1007: I. Prélude, and Toccata and Fugue in D Minor, BWV 565: I. Toccata.'"
            ]
          },
          "execution_count": 14,
          "metadata": {},
          "output_type": "execute_result"
        }
      ],
      "source": [
        "db_chain.run(\"What are some example tracks by Bach?\")"
      ]
    },
    {
      "cell_type": "markdown",
      "metadata": {
        "id": "ZmukmWoGcm4K"
      },
      "source": [
        "## Chat with text data"
      ]
    },
    {
      "cell_type": "code",
      "execution_count": null,
      "metadata": {
        "id": "YwVUvsFScm4K"
      },
      "outputs": [],
      "source": [
        "from PyPDF2 import PdfReader\n",
        "from dotenv import load_dotenv\n",
        "from langchain.llms import OpenAI\n",
        "from langchain.vectorstores import FAISS\n",
        "from langchain.callbacks import get_openai_callback\n",
        "from langchain.embeddings.openai import OpenAIEmbeddings\n",
        "from langchain.text_splitter import CharacterTextSplitter\n",
        "from langchain.chains.question_answering import load_qa_chain"
      ]
    },
    {
      "cell_type": "code",
      "execution_count": null,
      "metadata": {
        "id": "eaX9Wzmacm4L",
        "outputId": "03252bc8-3648-448b-d4dd-92ec4f0b1da8"
      },
      "outputs": [
        {
          "data": {
            "text/plain": [
              "\"Madam Speaker, Madam Vice President, our First Lady and Second Gentleman. Members of Congress a\\nnd the Cabinet. Justices of the Supreme Court. My fellow Americans.   \\n \\nLast year COVID-19 kept us apart. This year we are finally together again.  \\n \\nTonight, we meet as Democrats Republicans and Independents. But most importantly as Americans.  \\n \\nWith a duty to one another to the American people to the Constitution.  \\n \\nAnd with an unwavering resolve that freedom will always triumph over tyranny.  \\n \\nSix days ago, Russia's Vladimir Putin sought to shake the foundations of the free world thinking he could \\nmake it bend to his menacing ways. But he badly miscalculated.  \\n \\nHe thought he could roll into Ukraine and the world would roll over. Instead he met a wall of strength he n\\never imagined.  \\n \\nHe met the Ukrainian people.  \\n \\nFrom President Zelenskyy to every Ukrainian, their fearlessness, their courage, their determination, inspir\\nes the world.  \\n \\nGroups of citizens blocking tanks with their bodies. Everyone from students to retirees teachers turned sol\\ndiers defending their homeland.  \\n \\nIn this struggle as President Zelenskyy said in his speech to the European Parliament ªLight will win over \\ndarkness.º The Ukrainian Ambassador to the United States is here tonight.  \\n \\nLet each of us here tonight in this Chamber send an unmistakable signal to Ukraine and to the world.  \\n \\nPlease rise if you are able and show that, Yes, we the United States of America stand with the Ukrainian \\npeople.  \\n \\nThroughout our history we've learned this lesson when dictators do not pay a price for their aggression th\\ney cause more chaos.    \\n \\nThey keep moving.    \\n \\nAnd the costs and the threats to America and the world keep rising.    \\n \\nThat's why the NATO Alliance was created to secure peace and stability in Europe after World War 2.  \\n \\nThe United States is a member along with 29 other nations.  \\n \\nIt matters. American diplomacy matters. American resolve matters.  \\n \\nPutin's latest attack on Ukraine was premeditated and unprovoked.  \\n \\nHe rejected repeated efforts at diplomacy.  \\n \\nHe thought the West and NATO wouldn't respond. And he thought he could divide us at home. Putin was \\nwrong. We were ready.  Here is what we did.    \\n \\nWe prepared extensively and carefully.  \\n We spent months building a coalition of other freedom-loving nations from Europe and the Americas to As\\nia and Africa to confront Putin.  \\n \\nI spent countless hours unifying our European allies. We shared with the world in advance what we knew \\nPutin was planning and precisely how he would try to falsely justify his aggression.   \\n \\nWe countered Russia's lies with truth.    \\n \\nAnd now that he has acted the free world is holding him accountable.  \\n \\nAlong with twenty-seven members of the European Union including France, Germany, Italy, as well as co\\nuntries like the United Kingdom, Canada, Japan, Korea, Australia, New Zealand, and many others, even \\nSwitzerland.  \\n \\nWe are inflicting pain on Russia and supporting the people of Ukraine. Putin is now isolated from the worl\\nd more than ever.  \\n \\nTogether with our allies ±we are right now enforcing powerful economic sanctions.  \\n \\nWe are cutting off Russia's largest banks from the international financial system.   \\n \\nPreventing Russia's central bank from defending the Russian Ruble making Putin's $630 Billion ªwar fund\\nº worthless.    \\n \\nWe are choking off Russia's access to technology that will sap its economic strength and weaken its milita\\nry for years to come.   \\n \\nTonight I say to the Russian oligarchs and corrupt leaders who have bilked billions of dollars off this violen\\nt regime no more.  \\n \\nThe U.S. Department of Justice is assembling a dedicated task force to go after the crimes of Russian oli\\ngarchs.   \\n \\nWe are joining with our European allies to find and seize your yachts your luxury apartments your private j\\nets. We are coming for your ill-begotten gains.  \\n \\nAnd tonight I am announcing that we will join our allies in closing off American air space to all Russian flig\\nhts ± further isolating Russia ± and adding an additional squeeze ±on their economy. The Ruble has lost \\n30% of its value.  \\n \\nThe Russian stock market has lost 40% of its value and trading remains suspended. Russia's economy is\\n reeling and Putin alone is to blame.  \\n \\nTogether with our allies we are providing support to the Ukrainians in their fight for freedom. Military assist\\nance. Economic assistance. Humanitarian assistance.  \\n \\nWe are giving more than $1 Billion in direct assistance to Ukraine.  \\n \\nAnd we will continue to aid the Ukrainian people as they defend their country and to help ease their sufferi\\nng.   \\n \\nLet me be clear, our forces are not engaged and will not engage in conflict with Russian forces in Ukraine.\\n   \\n \\nOur forces are not going to Europe to fight in Ukraine, but to defend our NATO Allies ± in the event that Putin decides to keep moving west.   \\n \\nFor that purpose we've mobilized American ground forces, air squadrons, and ship deployments to protec\\nt NATO countries including Poland, Romania, Latvia, Lithuania, and Estonia.  \\n \\nAs I have made crystal clear the United States and our Allies will defend every inch of territory of NATO c\\nountries with the full force of our collective power.   \\n \\nAnd we remain clear-eyed. The Ukrainians are fighting back with pure courage. But the next few days we\\neks, months, will be hard on them.   \\n \\nPutin has unleashed violence and chaos.  But while he may make gains on the battlefield ± he will pay a c\\nontinuing high price over the long run.  \\n \\nAnd a proud Ukrainian people, who have known 30 years  of independence, have repeatedly shown that t\\nhey will not tolerate anyone who tries to take their country backwards.   \\n \\nTo all Americans, I will be honest with you, as I've always promised. A Russian dictator, invading a foreig\\nn country, has costs around the world.  \\n \\nAnd I'm taking robust action to make sure the pain of our sanctions  is targeted at Russia's economy. And\\n I will use every tool at our disposal to protect American businesses and consumers.  \\n \\nTonight, I can announce that the United States has worked with 30 other countries to release 60 Million b\\narrels of oil from reserves around the world.   \\n \\nAmerica will lead that effort, releasing 30 Million barrels from our own Strategic Petroleum Reserve. And \\nwe stand ready to do more if necessary, unified with our allies.   \\n \\nThese steps will help blunt gas prices here at home. And I know the news about what's happening can se\\nem alarming.  \\n \\nBut I want you to know that we are going to be okay.  \\n \\nWhen the history of this era is written Putin's war on Ukraine will have left Russia weaker and the rest of t\\nhe world stronger.  \\n \\nWhile it shouldn't have taken something so terrible for people around the world to see what's at stake now\\n everyone sees it clearly.  \\n \\nWe see the unity among leaders of nations and a more unified Europe a more unified West. And we see u\\nnity among the people who are gathering in cities in large crowds around the world even in Russia to dem\\nonstrate their support for Ukraine.   \\n \\nIn the battle between democracy and autocracy, democracies are rising to the moment, and the world is c\\nlearly choosing the side of peace and security.  \\n \\nThis is a real test. It's going to take time. So let us continue to draw inspiration from the iron will of the Ukr\\nainian people.  \\n \\nTo our fellow Ukrainian Americans who forge a deep bond that connects our two nations we stand with yo\\nu.  \\n \\nPutin may circle Kyiv with tanks, but he will never gain the hearts and souls of the Ukrainian people.  \\n He will never extinguish their love of freedom. He will never weaken the resolve of the free world.  \\n \\nWe meet tonight in an America that has lived through two of the hardest years this nation has ever faced.  \\n \\nThe pandemic has been punishing.  \\n \\nAnd so many families are living paycheck to paycheck, struggling to keep up with the rising cost of food, g\\nas, housing, and so much more.  \\n \\nI understand.  \\n \\nI remember when my Dad had to leave our home in Scranton, Pennsylvania to find work. I grew up in a fa\\nmily where if the price of food went up, you felt it.  \\n \\nThat's why one of the first things I did as President was fight to pass the American Rescue Plan.   \\n \\nBecause people were hurting. We needed to act, and we did.  \\n \\nFew pieces of legislation have done more in a critical moment in our history to lift us out of crisis.  \\n \\nIt fueled our efforts to vaccinate the nation and combat COVID-19. It delivered immediate economic relief \\nfor tens of millions of Americans.   \\n \\nHelped put food on their table, keep a roof over their heads, and cut the cost of health insurance.  \\n \\nAnd as my Dad used to say, it gave people a little breathing room.  \\n \\nAnd unlike the $2 Trillion tax cut passed in the previous administration that benefitted the top 1% of Ameri\\ncans, the American Rescue Plan helped working peopleÐand left no one behind.  \\n \\nAnd it worked. It created jobs. Lots of jobs.  \\n \\nIn factÐour economy created over 6.5 Million new jobs just last year, more jobs created in one year   \\nthan ever before in the history of America.  \\n \\nOur economy grew at a rate of 5.7% last year, the strongest growth in nearly 40 years, the first step in bri\\nnging fundamental change to an economy that hasn't worked for the working people of this nation for too l\\nong.   \\n \\nFor the past 40 years we were told that if we gave tax breaks to those at the very top, the benefits would t\\nrickle down to everyone else.  \\n \\nBut that trickle-down theory led to weaker economic growth, lower wages, bigger deficits, and the widest \\ngap between those at the top and everyone else in nearly a century.  \\n \\nVice President Harris and I ran for office with a new economic vision for America.  \\n \\nInvest in America. Educate Americans. Grow the workforce. Build the economy from the bottom up   \\nand the middle out, not from the top down.   \\n \\nBecause we know that when the middle class grows, the poor have a ladder up and the wealthy do very \\nwell.  \\n \\nAmerica used to have the best roads, bridges, and airports on Earth.  \\n Now our infrastructure is ranked 13th in the world.  \\n \\nWe won't be able to compete for the jobs of the 21st Century if we don't fix that.  \\n \\nThat's why it was so important to pass the Bipartisan Infrastructure LawÐthe most sweeping investment t\\no rebuild America in history.  \\n \\nThis was a bipartisan effort, and I want to thank the members of both parties who worked to make it happ\\nen.  \\n \\nWe're done talking about infrastructure weeks.  \\n \\nWe're going to have an infrastructure decade.  \\n \\nIt is going to transform America and put us on a path to win the economic competition of the 21st Century \\nthat we face with the rest of the worldÐparticularly with China.   \\n \\nAs I've told Xi Jinping, it is never a good bet to bet against the American people.  \\n \\nWe'll create good jobs for millions of Americans, modernizing roads, airports, ports, and waterways all acr\\noss America.  \\n \\nAnd we'll do it all to withstand the devastating effects of the climate crisis and promote environmental justi\\nce.  \\n \\nWe'll build a national network of 500,000 electric vehicle charging stations, begin to replace poisonous lea\\nd pipesÐso every childÐand every AmericanÐhas clean water to drink at home and at school, provide a\\nffordable high-speed internet for every AmericanÐurban, suburban, rural, and tribal communities.  \\n \\n4,000 projects have already been announced.  \\n \\nAnd tonight, I'm announcing that this year we will start fixing over 65,000 miles of highway and 1,500 brid\\nges in disrepair.  \\n \\nWhen we use taxpayer dollars to rebuild America ± we are going to Buy American: buy American product\\ns to support American jobs.  \\n \\nThe federal government spends about $600 Billion a year to keep the country safe and secure.  \\n \\nThere's been a law on the books for almost a century  \\nto make sure taxpayers' dollars support American jobs and businesses.  \\n \\nEvery Administration says they'll do it, but we are actually doing it.  \\n \\nWe will buy American to make sure everything from the deck of an aircraft carrier to the steel on highway \\nguardrails are made in America.  \\n \\nBut to compete for the best jobs of the future, we also need to level the playing field with China and other \\ncompetitors.  \\n \\nThat's why it is so important to pass the Bipartisan Innovation Act sitting in Congress that will make record\\n investments in emerging technologies and American manufacturing.  \\n \\nLet me give you one example of why it's so important to pass it.  \\n If you travel 20 miles east of Columbus, Ohio, you'll find 1,000 empty acres of land.  \\n \\nIt won't look like much, but if you stop and look closely, you'll see a ªField of dreams,º the ground on whic\\nh America's future will be built.  \\n \\nThis is where Intel, the American company that helped build Silicon Valley, is going to build its $20 billion \\nsemiconductor ªmega siteº.  \\n \\nUp to eight state-of-the-art factories in one place. 10,000 new good-paying jobs.  \\n \\nSome of the most sophisticated manufacturing in the world to make computer chips the size of a fingertip \\nthat power the world and our everyday lives.  \\n \\nSmartphones. The Internet. Technology we have yet to invent.  \\n \\nBut that's just the beginning.  \\n \\nIntel's CEO, Pat Gelsinger, who is here tonight, told me they are ready to increase their investment from   \\n$20 billion to $100 billion.  \\n \\nThat would be one of the biggest investments in manufacturing in American history.  \\n \\nAnd all they're waiting for is for you to pass this bill.  \\n \\nSo let's not wait any longer. Send it to my desk. I'll sign it.   \\n \\nAnd we will really take off.  \\n \\nAnd Intel is not alone.  \\n \\nThere's something happening in America.  \\n \\nJust look around and you'll see an amazing story.  \\n \\nThe rebirth of the pride that comes from stamping products ªMade In America.º The revitalization of Ameri\\ncan manufacturing.    \\n \\nCompanies are choosing to build new factories here, when just a few years ago, they would have built the\\nm overseas.  \\n \\nThat's what is happening. Ford is investing $11 billion to build electric vehicles, creating 11,000 jobs acros\\ns the country.  \\n \\nGM is making the largest investment in its historyÐ$7 billion to build electric vehicles, creating 4,000 jobs \\nin Michigan.  \\n \\nAll told, we created 369,000 new manufacturing jobs in America just last year.  \\n \\nPowered by people I've met like JoJo Burgess, from generations of union steelworkers from Pittsburgh, w\\nho's here with us tonight.  \\n \\nAs Ohio Senator Sherrod Brown says, ªIt's time to bury the label ªRust Belt.º  \\n \\nIt's time.  \\n But with all the bright spots in our economy, record job growth and higher wages, too many families are st\\nruggling to keep up with the bills.   \\n \\nInflation is robbing them of the gains they might otherwise feel.  \\n \\nI get it. That's why my top priority is getting prices under control.  \\n \\nLook, our economy roared back faster than most predicted, but the pandemic meant that businesses had \\na hard time hiring enough workers to keep up production in their factories.  \\n \\nThe pandemic also disrupted global supply chains.  \\n \\nWhen factories close, it takes longer to make goods and get them from the warehouse to the store, and pr\\nices go up.  \\n \\nLook at cars.  \\n \\nLast year, there weren't enough semiconductors to make all the cars that people wanted to buy.  \\n \\nAnd guess what, prices of automobiles went up.  \\n \\nSoÐwe have a choice.  \\n \\nOne way to fight inflation is to drive down wages and make Americans poorer.   \\n \\nI have a better plan to fight inflation.  \\n \\nLower your costs, not your wages.  \\n \\nMake more cars and semiconductors in America.  \\n \\nMore infrastructure and innovation in America.  \\n \\nMore goods moving faster and cheaper in America.  \\n \\nMore jobs where you can earn a good living in America.  \\n \\nAnd instead of relying on foreign supply chains, let's make it in America.  \\n \\nEconomists call it ªincreasing the productive capacity of our economy.º  \\n \\nI call it building a better America.  \\n \\nMy plan to fight inflation will lower your costs and lower the deficit.  \\n \\n17 Nobel laureates in economics say my plan will ease long-term inflationary pressures. Top business lea\\nders and most Americans support my plan. And here's the plan:  \\n \\nFirst ± cut the cost of prescription drugs. Just look at insulin. One in ten Americans has diabetes. In Virgini\\na, I met a 13-year-old boy named Joshua Davis.   \\n \\nHe and his Dad both have Type 1 diabetes, which means they need insulin every day. Insulin costs about\\n $10 a vial to make.   \\n \\nBut drug companies charge families like Joshua and his Dad up to 30 times more. I spoke with Joshua's mom.  \\n \\nImagine what it's like to look at your child who needs insulin and have no idea how you're going to pay for\\n it.   \\n \\nWhat it does to your dignity, your ability to look your child in the eye, to be the parent you expect to be.  \\n \\nJoshua is here with us tonight. Yesterday was his birthday. Happy birthday, buddy.   \\n \\nFor Joshua, and for the 200,000 other young people with Type 1 diabetes, let's cap the cost of insulin at $\\n35 a month so everyone can afford it.   \\n \\nDrug companies will still do very well. And while we're at it let Medicare negotiate lower prices for prescrip\\ntion drugs, like the VA already does.  \\n \\nLook, the American Rescue Plan is helping millions of families on Affordable Care Act plans save $2,400 \\na year on their health care premiums. Let's close the coverage gap and make those savings permanent.  \\n \\nSecond ± cut energy costs for families an average of $500 a year by combatting climate change.   \\n \\nLet's provide investments and tax credits to weatherize your homes and businesses to be energy efficient\\n and you get a tax credit; double America's clean energy production in solar, wind, and so much more;  lo\\nwer the price of electric vehicles, saving you another $80 a month because you'll never have to pay at the\\n gas pump again.  \\n \\nThird ± cut the cost of child care. Many families pay up to $14,000 a year for child care per child.   \\n \\nMiddle-class and working families shouldn't have to pay more than 7% of their income for care of young c\\nhildren.   \\n \\nMy plan will cut the cost in half for most families and help parents, including millions of women, who left th\\ne workforce during the pandemic because they couldn't afford child care, to be able to get back to work.  \\n \\nMy plan doesn't stop there. It also includes home and long-term care. More affordable housing. And Pre-\\nK for every 3- and 4-year-old.   \\n \\nAll of these will lower costs.  \\n \\nAnd under my plan, nobody earning less than $400,000 a year will pay an additional penny in new taxes. \\nNobody.   \\n \\nThe one thing all Americans agree on is that the tax system is not fair. We have to fix it.   \\n \\nI'm not looking to punish anyone. But let's make sure corporations and the wealthiest Americans start pay\\ning their fair share.  \\n \\nJust last year, 55 Fortune 500 corporations earned $40 billion in profits and paid zero dollars in federal inc\\nome tax.   \\n \\nThat's simply not fair. That's why I've proposed a 15% minimum tax rate for corporations.  \\n \\nWe got more than 130 countries to agree on a global minimum tax rate so companies can't get out of payi\\nng their taxes at home by shipping jobs and factories overseas.  \\n \\nThat's why I've proposed closing loopholes so the very wealthy don't pay a lower tax rate than a teacher or a firefighter.   \\n \\nSo that's my plan. It will grow the economy and lower costs for families.  \\n \\nSo what are we waiting for? Let's get this done. And while you're at it, confirm my nominees to the Federa\\nl Reserve, which plays a critical role in fighting inflation.   \\n \\nMy plan will not only lower costs to give families a fair shot, it will lower the deficit.  \\n \\nThe previous Administration not only ballooned the deficit with tax cuts for the very wealthy and corporatio\\nns, it undermined the watchdogs whose job was to keep pandemic relief funds from being wasted.  \\n \\nBut in my administration, the watchdogs have been welcomed back.  \\n \\nWe're going after the criminals who stole billions in relief money meant for small businesses and millions \\nof Americans.   \\n \\nAnd tonight, I'm announcing that the Justice Department will name a chief prosecutor for pandemic fraud.  \\n \\nBy the end of this year, the deficit will be down to less than half what it was before I took office.   \\n \\nThe only president ever to cut the deficit by more than one trillion dollars in a single year.  \\n \\nLowering your costs also means demanding more competition.  \\n \\nI'm a capitalist, but capitalism without competition isn't capitalism.  \\n \\nIt's exploitationÐand it drives up prices.  \\n \\nWhen corporations don't have to compete, their profits go up, your prices go up, and small businesses an\\nd family farmers and ranchers go under.  \\n \\nWe see it happening with ocean carriers moving goods in and out of America.  \\n \\nDuring the pandemic, these foreign-owned companies raised prices by as much as 1,000% and made rec\\nord profits.  \\n \\nTonight, I'm announcing a crackdown on these companies overcharging American businesses and consu\\nmers.  \\n \\nAnd as Wall Street firms take over more nursing homes, quality in those homes has gone down and costs\\n have gone up.   \\n \\nThat ends on my watch.  \\n \\nMedicare is going to set higher standards for nursing homes and make sure your loved ones get the care \\nthey deserve and expect.  \\n \\nWe'll also cut costs and keep the economy going strong by giving workers a fair shot, provide more trainin\\ng and apprenticeships, hire them based on their skills not degrees.  \\n \\nLet's pass the Paycheck Fairness Act and paid leave.   \\n \\nRaise the minimum wage to $15 an hour and extend the Child Tax Credit, so no one has to raise a family \\nin poverty.   \\nLet's increase Pell Grants and increase our historic support of HBCUs, and invest in what JillÐour First L\\nady who teaches full-timeÐcalls America's best-kept secret: community colleges.  \\n \\nAnd let's pass the PRO Act when a majority of workers want to form a unionÐthey shouldn't be stopped.   \\n \\nWhen we invest in our workers, when we build the economy from the bottom up and the middle out togeth\\ner, we can do something we haven't done in a long time: build a better America.  \\n \\nFor more than two years, COVID-19 has impacted every decision in our lives and the life of the nation.  \\n \\nAnd I know you're tired, frustrated, and exhausted.  \\n \\nBut I also know this.  \\n \\nBecause of the progress we've made, because of your resilience and the tools we have, tonight I can say \\n  \\nwe are moving forward safely, back to more normal routines.   \\n \\nWe've reached a new moment in the fight against COVID-19, with severe cases down to a level not seen \\nsince last July.   \\n \\nJust a few days ago, the Centers for Disease Control and PreventionÐthe CDCÐissued new mask guide\\nlines.  \\n \\nUnder these new guidelines, most Americans in most of the country can now be mask free.    \\n \\nAnd based on the projections, more of the country will reach that point across the next couple of weeks.  \\n \\nThanks to the progress we have made this past year, COVID-19 need no longer control our lives.   \\n \\nI know some are talking about ªliving with COVID-19º. Tonight ± I say that we will never just accept living \\nwith COVID-19.  \\n \\nWe will continue to combat the virus as we do other diseases. And because this is a virus that mutates an\\nd spreads, we will stay on guard.  \\n \\nHere are four common sense steps as we move forward safely.   \\n \\nFirst, stay protected with vaccines and treatments. We know how incredibly effective vaccines are. If you'r\\ne vaccinated and boosted you have the highest degree of protection.  \\n \\nWe will never give up on vaccinating more Americans. Now, I know parents with kids under 5 are eager to\\n see a vaccine authorized for their children.  \\n \\nThe scientists are working hard to get that done and we'll be ready with plenty of vaccines when they do.  \\n \\nWe're also ready with anti-viral treatments. If you get COVID-19, the Pfizer pill reduces your chances of e\\nnding up in the hospital by 90%.   \\n \\nWe've ordered more of these pills than anyone in the world. And Pfizer is working overtime to get us 1 Mill\\nion pills this month and more than double that next month.   \\n \\nAnd we're launching the ªTest to Treatº initiative so people can get tested at a pharmacy, and if they're po\\nsitive, receive antiviral pills on the spot at no cost.    \\nIf you're immunocompromised or have some other vulnerability, we have treatments and free high-quality \\nmasks.  \\n \\nWe're leaving no one behind or ignoring anyone's needs as we move forward.  \\n \\nAnd on testing, we have made hundreds of millions of tests available for you to order for free.    \\n \\nEven if you already ordered free tests tonight, I am announcing that you can order more from covidtests.g\\nov starting next week.  \\n \\nSecond ± we must prepare for new variants. Over the past year, we've gotten much better at detecting ne\\nw variants.  \\n \\nIf necessary, we'll be able to deploy new vaccines within 100 days instead of many more months or years\\n.   \\n \\nAnd, if Congress provides the funds we need, we'll have new stockpiles of tests, masks, and pills ready if \\nneeded.  \\n \\nI cannot promise a new variant won't come. But I can promise you we'll do everything within our power to \\nbe ready if it does.   \\n \\nThird ± we can end the shutdown of schools and businesses. We have the tools we need.  \\n \\nIt's time for Americans to get back to work and fill our great downtowns again.  People working from home\\n can feel safe to begin to return to the office.    \\n \\nWe're doing that here in the federal government. The vast majority of federal workers will once again work\\n in person.  \\n \\nOur schools are open. Let's keep it that way. Our kids need to be in school.  \\n \\nAnd with 75% of adult Americans fully vaccinated and hospitalizations down by 77%, most Americans can\\n remove their masks, return to work, stay in the classroom, and move forward safely.  \\n \\nWe achieved this because we provided free vaccines, treatments, tests, and masks.  \\n \\nOf course, continuing this costs money.  \\n \\nI will soon send Congress a request.  \\n \\nThe vast majority of Americans have used these tools and may want to again, so I expect Congress to pa\\nss it quickly.    \\n \\nFourth, we will continue vaccinating the world.      \\n \\nWe've sent 475 Million vaccine doses to 112 countries, more than any other nation.  \\n \\nAnd we won't stop.  \\n \\nWe have lost so much to COVID-19. Time with one another. And worst of all, so much loss of life.  \\n \\nLet's use this moment to reset. Let's stop looking at COVID-19 as a partisan dividing line and see it for wh\\nat it is: A God-awful disease.    \\nLet's stop seeing each other as enemies, and start seeing each other for who we really are: Fellow Ameri\\ncans.   \\n \\nWe can't change how divided we've been. But we can change how we move forwardÐon COVID-19 and \\nother issues we must face together.  \\n \\nI recently visited the New York City Police Department days after the funerals of Officer Wilbert Mora and \\nhis partner, Officer Jason Rivera.  \\n \\nThey were responding to a 9-1-1 call when a man shot and killed them with a stolen gun.  \\n \\nOfficer Mora was 27 years old.  \\n \\nOfficer Rivera was 22.  \\n \\nBoth Dominican Americans who'd grown up on the same streets they later chose to patrol as police office\\nrs.  \\n \\nI spoke with their families and told them that we are forever in debt for their sacrifice, and we will carry on \\ntheir mission to restore the trust and safety every community deserves.  \\n \\nI've worked on these issues a long time.  \\n \\nI know what works: Investing in crime preventionand community police officers who'll walk the beat, who'll\\n know the neighborhood, and who can restore trust and safety.  \\n \\nSo let's not abandon our streets. Or choose between safety and equal justice.  \\n \\nLet's come together to protect our communities, restore trust, and hold law enforcement accountable.  \\n \\nThat's why the Justice Department required body cameras, banned chokeholds, and restricted no-knock \\nwarrants for its officers.  \\n \\nThat's why the American Rescue Plan provided $350 Billion that cities, states, and counties can use to hir\\ne more police and invest in proven strategies like community violence interruptionÐtrusted messengers b\\nreaking the cycle of violence and trauma and giving young people hope.   \\n \\nWe should all agree: The answer is not to Defund the police. The answer is to FUND the police with the r\\nesources and training they need to protect our communities.  \\n \\nI ask Democrats and Republicans alike: Pass my budget and keep our neighborhoods safe.   \\n \\nAnd I will keep doing everything in my power to crack down on gun trafficking and ghost guns you can bu\\ny online and make at homeÐthey have no serial numbers and can't be traced.  \\n \\nAnd I ask Congress to pass proven measures to reduce gun violence. Pass universal background checks.\\n Why should anyone on a terrorist list be able to purchase a weapon?  \\n \\nBan assault weapons and high-capacity magazines.  \\n \\nRepeal the liability shield that makes gun manufacturers the only industry in America that can't be sued.  \\n \\nThese laws don't infringe on the Second Amendment. They save lives.  \\n The most fundamental right in America is the right to vote ± and to have it counted. And it's under assault.\\n  \\n \\nIn state after state, new laws have been passed, not only to suppress the vote, but to subvert entire electi\\nons.  \\n \\nWe cannot let this happen.  \\n \\nTonight. I call on the Senate to: Pass the Freedom to Vote Act. Pass the John Lewis Voting Rights Act. A\\nnd while you're at it, pass the Disclose Act so Americans can know who is funding our elections.  \\n \\nTonight, I'd like to honor someone who has dedicated his life to serve this country: Justice Stephen Breye\\nrÐan Army veteran, Constitutional scholar, and retiring Justice of the United States Supreme Court. Justi\\nce Breyer, thank you for your service.  \\n \\nOne of the most serious constitutional responsibilities a President has is nominating someone to serve on\\n the United States Supreme Court.  \\n \\nAnd I did that 4 days ago, when I nominated Circuit Court of Appeals Judge Ketanji Brown Jackson. One \\nof our nation's top legal minds, who will continue Justice Breyer's legacy of excellence.  \\n \\nA former top litigator in private practice. A former federal public defender. And from a family of public scho\\nol educators and police officers. A consensus builder. Since she's been nominated, she's received a broa\\nd range of supportÐfrom the Fraternal Order of Police to former judges appointed by Democrats and Rep\\nublicans.  \\n \\nAnd if we are to advance liberty and justice, we need to secure the Border and fix the immigration system.\\n  \\n \\nWe can do both. At our border, we've installed new technology like cutting-edge scanners to better detect \\ndrug smuggling.   \\n \\nWe've set up joint patrols with Mexico and Guatemala to catch more human traffickers.   \\n \\nWe're putting in place dedicated immigration judges so families fleeing persecution and violence can have\\n their cases heard faster.  \\n \\nWe're securing commitments and supporting partners in South and Central America to host more refugee\\ns and secure their own borders.  \\n \\nWe can do all this while keeping lit the torch of liberty that has led generations of immigrants to this landÐ\\nmy forefathers and so many of yours.  \\n \\nProvide a pathway to citizenship for Dreamers, those on temporary status, farm workers, and essential w\\norkers.  \\n \\nRevise our laws so businesses have the workers they need and families don't wait decades to reunite.  \\n \\nIt's not only the right thing to doÐit's the economically smart thing to do.  \\n \\nThat's why immigration reform is supported by everyone from labor unions to religious leaders to the U.S. \\nChamber of Commerce.  \\n \\nLet's get it done once and for all.  \\n Advancing liberty and justice also requires protecting the rights of women.  \\n \\nThe constitutional right affirmed in Roe v. WadeÐstanding precedent for half a centuryÐis under attack a\\ns never before.  \\n \\nIf we want to go forwardÐnot backwardÐwe must protect access to health care. Preserve a woman's rig\\nht to choose. And let's continue to advance maternal health care in America.  \\n \\nAnd for our LGBTQ+ Americans, let's finally get the bipartisan Equality Act to my desk. The onslaught of s\\ntate laws targeting transgender Americans and their families is wrong.  \\n \\nAs I said last year, especially to our younger transgender Americans, I will always have your back as your\\n President, so you can be yourself and reach your God-given potential.  \\n \\nWhile it often appears that we never agree, that isn't true. I signed 80 bipartisan bills into law last year. Fr\\nom preventing government shutdowns to protecting Asian-Americans from still-too-common hate crimes t\\no reforming military justice.  \\n \\nAnd soon, we'll strengthen the Violence Against Women Act that I first wrote three decades ago. It is impo\\nrtant for us to show the nation that we can come together and do big things.  \\n \\nSo tonight I'm offering a Unity Agenda for the Nation. Four big things we can do together.   \\n \\nFirst, beat the opioid epidemic.  \\n \\nThere is so much we can do. Increase funding for prevention, treatment, harm reduction, and recovery.   \\n \\nGet rid of outdated rules that stop doctors from prescribing treatments. And stop the flow of illicit drugs by \\nworking with state and local law enforcement to go after traffickers.  \\n \\nIf you're suffering from addiction, know you are not alone. I believe in recovery, and I celebrate the 23 milli\\non Americans in recovery.  \\n \\nSecond, let's take on mental health. Especially among our children, whose lives and education have been\\n turned upside down.   \\n \\nThe American Rescue Plan gave schools money to hire teachers and help students make up for lost learn\\ning.   \\n \\nI urge every parent to make sure your school does just that. And we can all play a partÐsign up to be a tu\\ntor or a mentor.  \\n \\nChildren were also struggling before the pandemic. Bullying, violence, trauma, and the harms of social me\\ndia.  \\n \\nAs Frances Haugen, who is here with us tonight, has shown, we must hold social media platforms accoun\\ntable for the national experiment they're conducting on our children for profit.  \\n \\nIt's time to strengthen privacy protections, ban targeted advertising to children, demand tech companies s\\ntop collecting personal data on our children.  \\n \\nAnd let's get all Americans the mental health services they need. More people they can turn to for help, a\\nnd full parity between physical and mental health care.  \\n \\nThird, support our veterans.   \\nVeterans are the best of us.  \\n \\nI've always believed that we have a sacred obligation to equip all those we send to war and care for them \\nand their families when they come home.  \\n \\nMy administration is providing assistance with job training and housing, and now helping lower-income vet\\nerans get VA care debt-free.   \\n \\nOur troops in Iraq and Afghanistan faced many dangers.  \\n \\nOne was stationed at bases and breathing in toxic smoke from ªburn pitsº that incinerated wastes of war\\nÐmedical and hazard material, jet fuel, and more.  \\n \\nWhen they came home, many of the world's fittest and best trained warriors were never the same.  \\n \\nHeadaches. Numbness. Dizziness.  \\n \\nA cancer that would put them in a flag-draped coffin.  \\n \\nI know.  \\n \\nOne of those soldiers was my son Major Beau Biden.  \\n \\nWe don't know for sure if a burn pit was the cause of his brain cancer, or the diseases of so many of our tr\\noops.  \\n \\nBut I'm committed to finding out everything we can.  \\n \\nCommitted to military families like Danielle Robinson from Ohio.  \\n \\nThe widow of Sergeant First Class Heath Robinson.   \\n \\nHe was born a soldier. Army National Guard. Combat medic in Kosovo and Iraq.  \\n \\nStationed near Baghdad, just yards from burn pits the size of football fields.  \\n \\nHeath's widow Danielle is here with us tonight. They loved going to Ohio State football games. He loved b\\nuilding Legos with their daughter.  \\n \\nBut cancer from prolonged exposure to burn pits ravaged Heath's lungs and body.  \\n \\nDanielle says Heath was a fighter to the very end.  \\n \\nHe didn't know how to stop fighting, and neither did she.  \\n \\nThrough her pain she found purpose to demand we do better.  \\n \\nTonight, DanielleÐwe are.  \\n \\nThe VA is pioneering new ways of linking toxic exposures to diseases, already helping more veterans get \\nbenefits.  \\n \\nAnd tonight, I'm announcing we're expanding eligibility to veterans suffering from nine respiratory cancers\\n.   \\nI'm also calling on Congress: pass a law to make sure veterans devastated by toxic exposures in Iraq and\\n Afghanistan finally get the benefits and comprehensive health care they deserve.  \\n \\nAnd fourth, let's end cancer as we know it.  \\n \\nThis is personal to me and Jill, to Kamala, and to so many of you.  \\n \\nCancer is the #2 cause of death in America±second only to heart disease.  \\n \\nLast month, I announced our plan to supercharge   \\nthe Cancer Moonshot that President Obama asked me to lead six years ago.  \\n \\nOur goal is to cut the cancer death rate by at least 50% over the next 25 years, turn more cancers from d\\neath sentences into treatable diseases.   \\n \\nMore support for patients and families.  \\n \\nTo get there, I call on Congress to fund ARPA-H, the Advanced Research Projects Agency for Health.  \\n \\nIt's based on DARPAÐthe Defense Department project that led to the Internet, GPS, and so much more. \\n  \\n \\nARPA-H will have a singular purposeÐto drive breakthroughs in cancer, Alzheimer's, diabetes, and more.\\n  \\n \\nA unity agenda for the nation.  \\n \\nWe can do this.  \\n \\nMy fellow AmericansÐtonight , we have gathered in a sacred spaceÐthe citadel of our democracy.  \\n \\nIn this Capitol, generation after generation, Americans have debated great questions amid great strife, an\\nd have done great things.  \\n \\nWe have fought for freedom, expanded liberty, defeated totalitarianism and terror.  \\n \\nAnd built the strongest, freest, and most prosperous nation the world has ever known.  \\n \\nNow is the hour.  \\n \\nOur moment of responsibility.  \\n \\nOur test of resolve and conscience, of history itself.  \\n \\nIt is in this moment that our character is formed. Our purpose is found. Our future is forged.  \\n \\nWell I know this nation.   \\n \\nWe will meet the test.  \\n \\nTo protect freedom and liberty, to expand fairness and opportunity.  \\n \\nWe will save democracy.  \\n As hard as these times have been, I am more optimistic about America today than I have been my whole l\\nife.  \\n \\nBecause I see the future that is within our grasp.  \\n \\nBecause I know there is simply nothing beyond our capacity.  \\n \\nWe are the only nation on Earth that has always turned every crisis we have faced into an opportunity.  \\n \\nThe only nation that can be defined by a single word: possibilities.  \\n \\nSo on this night, in our 245th year as a nation, I have come to report on the State of the Union.  \\n \\nAnd my report is this: the State of the Union is strongÐbecause you, the American people, are strong.  \\n \\nWe are stronger today than we were a year ago.  \\n \\nAnd we will be stronger a year from now than we are today.  \\n \\nNow is our moment to meet and overcome the challenges of our time.  \\n \\nAnd we will, as one people.  \\n \\nOne America.  \\n \\nThe United States of America.  \\n \\nMay God bless you all. May God protect our troops.\""
            ]
          },
          "execution_count": 7,
          "metadata": {},
          "output_type": "execute_result"
        }
      ],
      "source": [
        "load_dotenv()\n",
        "# upload file\n",
        "pdf = r\"C:\\Users\\srika\\langchain-learning\\chat\\state_of_the_union.pdf\"\n",
        "\n",
        "# extract the text\n",
        "pdf_reader = PdfReader(pdf)\n",
        "text = \"\"\n",
        "for page in pdf_reader.pages:\n",
        "    text += page.extract_text()\n",
        "text"
      ]
    },
    {
      "cell_type": "code",
      "execution_count": null,
      "metadata": {
        "id": "V8G4mPkGcm4L"
      },
      "outputs": [],
      "source": [
        "# split into chunks\n",
        "text_splitter = CharacterTextSplitter(\n",
        "separator=\"\\n\",\n",
        "chunk_size=1000,\n",
        "chunk_overlap=200,\n",
        "length_function=len\n",
        ")\n",
        "chunks = text_splitter.split_text(text)\n",
        "\n",
        "# create embeddings\n",
        "embeddings = OpenAIEmbeddings()\n",
        "knowledge_base = FAISS.from_texts(chunks, embeddings)"
      ]
    },
    {
      "cell_type": "code",
      "execution_count": null,
      "metadata": {
        "id": "7HZDPyOxcm4L",
        "outputId": "1a3912bb-7123-4230-bf02-cbe39b01852c"
      },
      "outputs": [
        {
          "name": "stdout",
          "output_type": "stream",
          "text": [
            "Tokens Used: 1005\n",
            "\tPrompt Tokens: 981\n",
            "\tCompletion Tokens: 24\n",
            "Successful Requests: 1\n",
            "Total Cost (USD): $0.0201\n"
          ]
        }
      ],
      "source": [
        "# show user input\n",
        "user_question = input(\"Ask a question about your PDF:\")\n",
        "if user_question:\n",
        "    docs = knowledge_base.similarity_search(user_question)\n",
        "\n",
        "llm = OpenAI()\n",
        "chain = load_qa_chain(llm, chain_type=\"stuff\")\n",
        "with get_openai_callback() as cb:\n",
        "    response = chain.run(input_documents=docs, question=user_question)\n",
        "    # We can see the additional information\n",
        "    print(cb)"
      ]
    },
    {
      "cell_type": "markdown",
      "metadata": {
        "id": "mmoV10B1cm4L"
      },
      "source": [
        "### Q-What is the U.S. Department of Justice doing to combat the crimes of Russian oligarchs?"
      ]
    },
    {
      "cell_type": "code",
      "execution_count": null,
      "metadata": {
        "id": "PCfCYtkAcm4M",
        "outputId": "507ce809-cec4-479e-e231-54ca87f9592b"
      },
      "outputs": [
        {
          "data": {
            "text/plain": [
              "' The U.S. Department of Justice is assembling a dedicated task force to go after the crimes of Russian oligarchs.'"
            ]
          },
          "execution_count": 12,
          "metadata": {},
          "output_type": "execute_result"
        }
      ],
      "source": [
        "response"
      ]
    },
    {
      "cell_type": "markdown",
      "metadata": {
        "id": "U29ZhNyvcm4M"
      },
      "source": [
        "### Chat with the text files"
      ]
    },
    {
      "cell_type": "code",
      "execution_count": null,
      "metadata": {
        "id": "6wjwfudWcm4M"
      },
      "outputs": [],
      "source": [
        "!pip install chromadb"
      ]
    },
    {
      "cell_type": "code",
      "execution_count": null,
      "metadata": {
        "id": "DjOvk0rAcm4M"
      },
      "outputs": [],
      "source": [
        "import json\n",
        "\n",
        "with open('./state_of_the_union.json') as f:\n",
        "  dataset = json.load(f)"
      ]
    },
    {
      "cell_type": "code",
      "execution_count": null,
      "metadata": {
        "id": "kKMqKncWcm4M"
      },
      "outputs": [],
      "source": [
        "from langchain.document_loaders import TextLoader\n",
        "from langchain.indexes import VectorstoreIndexCreator\n",
        "\n",
        "loader = TextLoader(\"./state_of_the_union.txt\")\n",
        "vectorstore = VectorstoreIndexCreator().from_loaders([loader]).vectorstore"
      ]
    },
    {
      "cell_type": "code",
      "execution_count": null,
      "metadata": {
        "id": "OAduC7Socm4M"
      },
      "outputs": [],
      "source": [
        "from langchain.chains import RetrievalQA\n",
        "from langchain.llms import OpenAI\n",
        "\n",
        "chain = RetrievalQA.from_chain_type(\n",
        "    llm=OpenAI(),\n",
        "    chain_type=\"stuff\",\n",
        "    retriever=vectorstore.as_retriever(),\n",
        "    input_key=\"question\",\n",
        ")"
      ]
    },
    {
      "cell_type": "code",
      "execution_count": null,
      "metadata": {
        "id": "EQgfO0eecm4N",
        "outputId": "8df28f99-fb9f-43f4-fdcd-898f05d01f0e"
      },
      "outputs": [
        {
          "data": {
            "text/plain": [
              "{'question': 'What is the purpose of the NATO Alliance?',\n",
              " 'answer': 'The purpose of the NATO Alliance is to secure peace and stability in Europe after World War 2.',\n",
              " 'result': ' The NATO Alliance was created to secure peace and stability in Europe after World War 2.'}"
            ]
          },
          "execution_count": 26,
          "metadata": {},
          "output_type": "execute_result"
        }
      ],
      "source": [
        "chain(dataset[0])"
      ]
    },
    {
      "cell_type": "code",
      "execution_count": null,
      "metadata": {
        "id": "F2P_zcYCcm4N",
        "outputId": "5fb7e3e5-ece8-44ca-f77b-7539e1b73429"
      },
      "outputs": [
        {
          "data": {
            "text/plain": [
              "{'question': 'What did the president say about Justice Breyer/',\n",
              " 'result': ' The President said that Justice Breyer has dedicated his life to serve this country and thanked him for his service.'}"
            ]
          },
          "execution_count": 27,
          "metadata": {},
          "output_type": "execute_result"
        }
      ],
      "source": [
        "chain(\"What did the president say about Justice Breyer?\")"
      ]
    },
    {
      "cell_type": "markdown",
      "source": [
        "### For chatbot, for writing SQL query\n",
        "- price factor\n",
        "- accuracy"
      ],
      "metadata": {
        "id": "sGYWYEq0A9-1"
      }
    },
    {
      "cell_type": "code",
      "source": [],
      "metadata": {
        "id": "BOEXLsOQCRvQ"
      },
      "execution_count": null,
      "outputs": []
    }
  ],
  "metadata": {
    "kernelspec": {
      "display_name": "base",
      "language": "python",
      "name": "python3"
    },
    "language_info": {
      "codemirror_mode": {
        "name": "ipython",
        "version": 3
      },
      "file_extension": ".py",
      "mimetype": "text/x-python",
      "name": "python",
      "nbconvert_exporter": "python",
      "pygments_lexer": "ipython3",
      "version": "3.10.9"
    },
    "orig_nbformat": 4,
    "colab": {
      "provenance": []
    }
  },
  "nbformat": 4,
  "nbformat_minor": 0
}